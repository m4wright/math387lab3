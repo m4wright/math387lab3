{
  "nbformat": 4,
  "nbformat_minor": 0,
  "metadata": {
    "colab": {
      "name": "Math387 A3.ipynb",
      "version": "0.3.2",
      "views": {},
      "default_view": {},
      "provenance": [],
      "collapsed_sections": []
    },
    "kernelspec": {
      "name": "python3",
      "display_name": "Python 3"
    }
  },
  "cells": [
    {
      "metadata": {
        "id": "ZEoKab7RqzHe",
        "colab_type": "code",
        "colab": {
          "autoexec": {
            "startup": false,
            "wait_interval": 0
          }
        }
      },
      "cell_type": "code",
      "source": [
        "import numpy as np\n",
        "from scipy.special import eval_legendre\n",
        "from numpy.polynomial.legendre import legroots\n",
        "import matplotlib.pyplot as plt\n",
        "from scipy.optimize import curve_fit\n",
        "import scipy.integrate as integrate"
      ],
      "execution_count": 0,
      "outputs": []
    },
    {
      "metadata": {
        "id": "bLsIO_srQUM-",
        "colab_type": "text"
      },
      "cell_type": "markdown",
      "source": [
        "# Question 1\n",
        "\n",
        "In order to compute \n",
        "$$\\lambda_n(x) = \\sum_{k=0}^n|\\phi_{n,k}(x)|$$  \n",
        "\n",
        "We first need to create a function to compute the $k^{th}$ Lagrange coefficient.  \n",
        "We define this below."
      ]
    },
    {
      "metadata": {
        "id": "dc_e3SNqCuQy",
        "colab_type": "code",
        "colab": {
          "autoexec": {
            "startup": false,
            "wait_interval": 0
          }
        }
      },
      "cell_type": "code",
      "source": [
        "def LagrangeCoeff(xs, j, x):\n",
        "  result = 1.0\n",
        "  for m in range(len(xs)):\n",
        "    if m != j:\n",
        "      result *= ((x - xs[m]) / (xs[j] - xs[m]))\n",
        "      \n",
        "  return result\n",
        "\n",
        "\n",
        "def Lagrange(xs, x):\n",
        "  return sum(abs(LagrangeCoeff(xs, j, x)) for j in range(len(xs)))"
      ],
      "execution_count": 0,
      "outputs": []
    },
    {
      "metadata": {
        "id": "rPCOfy2VRiFI",
        "colab_type": "text"
      },
      "cell_type": "markdown",
      "source": [
        "We can now compute $\\|L_n\\|$ by taking the maximum of $\\lambda_n(x)$ out of $x = \\pm1$, which we do below. We use Chebyshev nodes to get the $n+1$ nodes between $-1$ and $1$.\n"
      ]
    },
    {
      "metadata": {
        "id": "0jNfdOr8R4pe",
        "colab_type": "code",
        "colab": {
          "autoexec": {
            "startup": false,
            "wait_interval": 0
          }
        }
      },
      "cell_type": "code",
      "source": [
        "def chebyshev(a, b, n, k):\n",
        "    return 0.5*(a + b) + 0.5*(b - a)*np.cos((2*k - 1) / (2*n) * np.pi)\n",
        "\n",
        "def chebyshev_nodes(a, b, n):\n",
        "    return np.array([chebyshev(a,b,n,k) for k in range(1, n+1)][::-1])\n",
        "  \n",
        "  \n",
        "\n",
        "def normLn(n):\n",
        "  xs = chebyshev_nodes(-1,1,n)\n",
        "  return max(Lagrange(xs, -1), Lagrange(xs, 1))"
      ],
      "execution_count": 0,
      "outputs": []
    },
    {
      "metadata": {
        "id": "x4trq88ESVTK",
        "colab_type": "text"
      },
      "cell_type": "markdown",
      "source": [
        "We can now plot $n$ vs $\\|L_n\\|$."
      ]
    },
    {
      "metadata": {
        "id": "C6kisJ5BSZO6",
        "colab_type": "code",
        "colab": {
          "autoexec": {
            "startup": false,
            "wait_interval": 0
          },
          "base_uri": "https://localhost:8080/",
          "height": 430
        },
        "outputId": "0d5f662f-7d58-45db-da80-a579020da57a",
        "executionInfo": {
          "status": "ok",
          "timestamp": 1523655918222,
          "user_tz": 240,
          "elapsed": 400,
          "user": {
            "displayName": "Mathew Wright",
            "photoUrl": "https://lh3.googleusercontent.com/a/default-user=s128",
            "userId": "101002757614869681843"
          }
        }
      },
      "cell_type": "code",
      "source": [
        "ns = list(range(5, 30))\n",
        "normLns = [normLn(n) for n in ns]\n",
        "\n",
        "def c_log(c, n):\n",
        "  return c*np.log(n)\n",
        "\n",
        "c, _ = curve_fit(c_log, ns, normLns)\n",
        "\n",
        "plt.plot(ns, normLns, label=\"Norm of Ln\")\n",
        "plt.title(\"n vs Norm of Ln\")\n",
        "plt.xlabel(\"n\")\n",
        "plt.ylabel(\"Ln\")\n",
        "plt.legend()\n",
        "plt.show()\n",
        "\n",
        "print(\"\\n\\nNorm of Ln can be approximated by {:.3f}*log(n)\".format(c[0]))"
      ],
      "execution_count": 4,
      "outputs": [
        {
          "output_type": "display_data",
          "data": {
            "image/png": "[encoded data removed]",
            "text/plain": [
              "<matplotlib.figure.Figure at 0x7f8c56d7ba90>"
            ]
          },
          "metadata": {
            "tags": []
          }
        },
        {
          "output_type": "stream",
          "text": [
            "\n",
            "\n",
            "Norm of Ln can be approximated by 1.151*log(n)\n"
          ],
          "name": "stdout"
        }
      ]
    },
    {
      "metadata": {
        "id": "KXapHyVhdLi-",
        "colab_type": "text"
      },
      "cell_type": "markdown",
      "source": [
        "As we can see above, $\\|L_n\\|$ can be approximated by $Clog(n)$ where $C \\approx 1.151$."
      ]
    },
    {
      "metadata": {
        "id": "gFnfp9bldrie",
        "colab_type": "text"
      },
      "cell_type": "markdown",
      "source": [
        "# Question 2\n",
        "\n",
        "We start by implementing the derivative of $\\phi_{n,k}(x)$, which will be used to compute the maxima."
      ]
    },
    {
      "metadata": {
        "id": "PLdqQG1heOEO",
        "colab_type": "code",
        "colab": {
          "autoexec": {
            "startup": false,
            "wait_interval": 0
          }
        }
      },
      "cell_type": "code",
      "source": [
        "def derivative_lagrange_elem(xs,k,x):\n",
        "  result = 1.0\n",
        "  for m in range(len(xs)):\n",
        "    if m != k:\n",
        "      p = 1.0 / (xs[m] - xs[k])\n",
        "      for i in range(len(xs)):\n",
        "        if i != m and i != k:\n",
        "          p *= (x - xs[i]) / (xs[m] - xs[i])\n",
        "      result += p\n",
        "      \n",
        "  return result\n",
        "\n",
        "\n",
        "def gradient_lagrange_elem(xs, x):\n",
        "  return np.array([derivative_lagrange_elem(xs, k, x) for k in range(len(xs))])\n",
        "\n",
        "\n",
        "def lagrange_derivative(xs, x):\n",
        "  l_basis = np.array([LagrangeCoeff(xs, k, x) for k in range(len(xs))])\n",
        "  return sum(gradient_lagrange_elem(xs, x) * l_basis / np.abs(l_basis))"
      ],
      "execution_count": 0,
      "outputs": []
    },
    {
      "metadata": {
        "id": "DXIy2lu3YloG",
        "colab_type": "text"
      },
      "cell_type": "markdown",
      "source": [
        "Next, we implement the secant method to compute the maxima."
      ]
    },
    {
      "metadata": {
        "id": "oHj8uynDYrCm",
        "colab_type": "code",
        "colab": {
          "autoexec": {
            "startup": false,
            "wait_interval": 0
          }
        }
      },
      "cell_type": "code",
      "source": [
        "def secantMethod(df, a, b, epsilon=1e-5, maxIterations=100):\n",
        "  for _ in range(maxIterations):\n",
        "    c = b - df(b) * ((b - a) / (df(b) - df(a)))\n",
        "    \n",
        "    if (c-b) < epsilon:\n",
        "      return c\n",
        "    \n",
        "    a, b = b, c\n",
        "\n",
        "  return c"
      ],
      "execution_count": 0,
      "outputs": []
    },
    {
      "metadata": {
        "id": "NOwvT_kgi_q2",
        "colab_type": "text"
      },
      "cell_type": "markdown",
      "source": [
        "Using the above, we can now compute $\\|L_n\\|$ for equidistant nodes."
      ]
    },
    {
      "metadata": {
        "id": "CuJhF65ujRp2",
        "colab_type": "code",
        "colab": {
          "autoexec": {
            "startup": false,
            "wait_interval": 0
          }
        }
      },
      "cell_type": "code",
      "source": [
        "def Ln_equidistant(n):\n",
        "  xs = np.linspace(-1,1,n+1)\n",
        "  l = lambda x: Lagrange(xs, x)\n",
        "  dl = lambda x: lagrange_derivative(xs, x)\n",
        "  \n",
        "  a1 = 0.5*(xs[0] + xs[1])\n",
        "  b1 = a1 + (a1/5)\n",
        "  possible_max = secantMethod(dl, a1, b1)\n",
        "  \n",
        "  a2 = 0.5*(xs[-1] + xs[-2])\n",
        "  b2 = 1.2*a2\n",
        "  other_max = secantMethod(l, a2, b2)\n",
        "    \n",
        "  return max(l(possible_max), l(other_max))"
      ],
      "execution_count": 0,
      "outputs": []
    },
    {
      "metadata": {
        "id": "F8o-oDMIj5Es",
        "colab_type": "text"
      },
      "cell_type": "markdown",
      "source": [
        "We can now plot $n$ vs $\\|L_n\\|$ using equidistant nodes."
      ]
    },
    {
      "metadata": {
        "id": "AHl7ashBj936",
        "colab_type": "code",
        "colab": {
          "autoexec": {
            "startup": false,
            "wait_interval": 0
          },
          "base_uri": "https://localhost:8080/",
          "height": 394
        },
        "outputId": "1b0c1bf6-396d-47cc-c69e-77356d9ea7fb",
        "executionInfo": {
          "status": "ok",
          "timestamp": 1523655923518,
          "user_tz": 240,
          "elapsed": 4036,
          "user": {
            "displayName": "Mathew Wright",
            "photoUrl": "https://lh3.googleusercontent.com/a/default-user=s128",
            "userId": "101002757614869681843"
          }
        }
      },
      "cell_type": "code",
      "source": [
        "ns = list(range(20, 40))\n",
        "normLns = [Ln_equidistant(n) for n in ns]\n",
        "\n",
        "\n",
        "def func(n, c):\n",
        "    return c**n\n",
        "\n",
        "c, _ = curve_fit(func, ns, normLns)\n",
        "c = c[0]\n",
        "print(\"Norm Ln can be approximated by {:.3f}^n\".format(c))\n",
        "\n",
        "plt.scatter(ns, normLns, label=\"Norm Ln\")\n",
        "plt.plot(ns, [func(n,c) for n in ns], label=\"{:.3f}^n\".format(c))\n",
        "plt.legend()\n",
        "plt.title('Norm Ln with equidistant nodes')\n",
        "plt.xlabel('n')\n",
        "plt.ylabel('Norm Ln')\n",
        "plt.show()"
      ],
      "execution_count": 8,
      "outputs": [
        {
          "output_type": "stream",
          "text": [
            "Norm Ln can be approximated by 1.712^n\n"
          ],
          "name": "stdout"
        },
        {
          "output_type": "display_data",
          "data": {
            "image/png": "[encoded data removed]",
            "text/plain": [
              "<matplotlib.figure.Figure at 0x7f8c54412160>"
            ]
          },
          "metadata": {
            "tags": []
          }
        }
      ]
    },
    {
      "metadata": {
        "id": "2RCiiQwcciyk",
        "colab_type": "text"
      },
      "cell_type": "markdown",
      "source": [
        "As we can see from the above graph, $n \\mapsto 1.712^n$ is a good approximation for $n \\mapsto \\|L_n\\|$.   \n",
        "The experimental result, $C = 1.712$, is close but not exactly equal to $2$."
      ]
    },
    {
      "metadata": {
        "id": "vHhWuUdbdKoG",
        "colab_type": "text"
      },
      "cell_type": "markdown",
      "source": [
        "# Question 3\n",
        "\n",
        "We now compute $\\|S_n\\|$ using Chebyshev truncation,  \n",
        "\n",
        "$$\\|S_n\\| = \\int_0^\\pi\\left|\\frac{sin((n + \\frac{1}{2})\\theta)}{2sin(\\frac{1}{2}\\theta)}\\right|d\\theta$$\n",
        "\n",
        "To do this, we first define the function \n",
        "\n",
        "$$\\theta \\mapsto \\left|\\frac{sin((n + \\frac{1}{2})\\theta)}{2sin(\\frac{1}{2}\\theta)}\\right|$$"
      ]
    },
    {
      "metadata": {
        "id": "ZZf946X_gPfw",
        "colab_type": "code",
        "colab": {
          "autoexec": {
            "startup": false,
            "wait_interval": 0
          }
        }
      },
      "cell_type": "code",
      "source": [
        "def sn_chebyshev(n, theta):\n",
        "  return abs(\n",
        "      np.sin((n + 0.5)*theta) / 2*np.sin(0.5*theta)\n",
        "  )"
      ],
      "execution_count": 0,
      "outputs": []
    },
    {
      "metadata": {
        "id": "YjD4gpC_gdY6",
        "colab_type": "text"
      },
      "cell_type": "markdown",
      "source": [
        "Since the function is highly irregular, especially for large $n$, we will put extra effort into computing good nodes.  \n",
        "We will find all of the roots of $sin((n + \\frac{1}{2})\\theta)$, and use these as the nodes. We then add the endpoints to this list. However, since the function is not defined at $0$, we add $10^{-8}$ instead. We then compute the Chebyshev nodes between each consecutive pair.\n",
        "This way, the function is smooth between any consecutive nodes."
      ]
    },
    {
      "metadata": {
        "id": "XdP-jXadhGky",
        "colab_type": "code",
        "colab": {
          "autoexec": {
            "startup": false,
            "wait_interval": 0
          }
        }
      },
      "cell_type": "code",
      "source": [
        "def findNodes(n):\n",
        "  zeros = [(np.pi * k) / (n + 0.5) for k in range(1, n+1)]\n",
        "  initial_nodes = [1e-8] + zeros + [np.pi]\n",
        "  \n",
        "  nodes = np.array([1e-8])\n",
        "  for i in range(len(initial_nodes)-1):\n",
        "    nodes = np.append(nodes, chebyshev_nodes(initial_nodes[i], initial_nodes[i+1], max(3,n)))\n",
        "  \n",
        "  return nodes"
      ],
      "execution_count": 0,
      "outputs": []
    },
    {
      "metadata": {
        "id": "VRCbNOLihtGA",
        "colab_type": "text"
      },
      "cell_type": "markdown",
      "source": [
        "Next, we define the quadrature. For this we will use trapezoidal quadrature."
      ]
    },
    {
      "metadata": {
        "id": "5dtJ28q4h1l4",
        "colab_type": "code",
        "colab": {
          "autoexec": {
            "startup": false,
            "wait_interval": 0
          }
        }
      },
      "cell_type": "code",
      "source": [
        "def trapezoidal_step(f, a, b):\n",
        "  return 0.5*(f(a) + f(b)) * (b - a)\n",
        "\n",
        "def trapezoidal(f, xs):\n",
        "  answer = 0.0\n",
        "  for i in range(len(xs) - 1):\n",
        "    answer += trapezoidal_step(f, xs[i], xs[i+1])\n",
        "    \n",
        "  return answer"
      ],
      "execution_count": 0,
      "outputs": []
    },
    {
      "metadata": {
        "id": "4ys-nF-Yh-To",
        "colab_type": "text"
      },
      "cell_type": "markdown",
      "source": [
        "We're now ready to compute the integral, and hence $\\|S_n\\|$."
      ]
    },
    {
      "metadata": {
        "id": "-yTIkEuBiEHe",
        "colab_type": "code",
        "colab": {
          "autoexec": {
            "startup": false,
            "wait_interval": 0
          }
        }
      },
      "cell_type": "code",
      "source": [
        "def normSn(n):\n",
        "  nodes = findNodes(n)\n",
        "  sn = lambda theta: sn_chebyshev(n, theta)\n",
        "  return trapezoidal(sn, nodes)"
      ],
      "execution_count": 0,
      "outputs": []
    },
    {
      "metadata": {
        "id": "4nCsMKN9iTNO",
        "colab_type": "text"
      },
      "cell_type": "markdown",
      "source": [
        "Now we can plot the graph of $n$ vs $\\|S_n\\|$ and find $C$ such that $\\|S_n\\| \\approx C \\cdot log(n)$."
      ]
    },
    {
      "metadata": {
        "id": "TGDKRSMqiXfo",
        "colab_type": "code",
        "colab": {
          "autoexec": {
            "startup": false,
            "wait_interval": 0
          },
          "base_uri": "https://localhost:8080/",
          "height": 430
        },
        "outputId": "6d7e565d-9194-410e-89b4-1e1a713cb5cf",
        "executionInfo": {
          "status": "ok",
          "timestamp": 1523655925670,
          "user_tz": 240,
          "elapsed": 504,
          "user": {
            "displayName": "Mathew Wright",
            "photoUrl": "https://lh3.googleusercontent.com/a/default-user=s128",
            "userId": "101002757614869681843"
          }
        }
      },
      "cell_type": "code",
      "source": [
        "ns = list(range(5, 20))\n",
        "normSns = [normSn(n) for n in ns]\n",
        "\n",
        "def f(n, c):\n",
        "  return c*np.log(n)\n",
        "\n",
        "\n",
        "c, _ = curve_fit(f, ns, normSns)\n",
        "c = c[0]\n",
        "\n",
        "plt.scatter(ns, normSns, label=\"Norm Sn\")\n",
        "#plt.plot(ns, [f(n, c) for n in ns], label=\"{:.2f}*log(n)\".format(c))\n",
        "plt.legend()\n",
        "plt.xlabel(\"n\")\n",
        "plt.ylabel(\"Sn\")\n",
        "plt.title(\"Sn using Chebyshev truncation\")\n",
        "plt.show()\n",
        "\n",
        "print(\"\\n\\nSn can be approximated by {:.3f}*log(n)\".format(c))"
      ],
      "execution_count": 13,
      "outputs": [
        {
          "output_type": "display_data",
          "data": {
            "image/png": "[encoded data removed]",
            "text/plain": [
              "<matplotlib.figure.Figure at 0x7f8c543a84a8>"
            ]
          },
          "metadata": {
            "tags": []
          }
        },
        {
          "output_type": "stream",
          "text": [
            "\n",
            "\n",
            "Sn can be approximated by 0.253*log(n)\n"
          ],
          "name": "stdout"
        }
      ]
    },
    {
      "metadata": {
        "id": "AY4C0ivjBidA",
        "colab_type": "text"
      },
      "cell_type": "markdown",
      "source": [
        "# Question 4\n",
        "\n",
        "We first define a function to compute \n",
        "\n",
        "$$\\sum_{k=0}^na_kP_k(x)$$ \n",
        "\n",
        "From the theory assignment, we know that $a_k = k + \\frac{1}{2} \\ \\forall \\ k$"
      ]
    },
    {
      "metadata": {
        "id": "lCexErMRCFvy",
        "colab_type": "code",
        "colab": {
          "autoexec": {
            "startup": false,
            "wait_interval": 0
          }
        }
      },
      "cell_type": "code",
      "source": [
        "def f_sn(x, n):\n",
        "  return sum((k + 0.5) * eval_legendre(k, x) for k in range(n+1))"
      ],
      "execution_count": 0,
      "outputs": []
    },
    {
      "metadata": {
        "id": "vGYKevJYozSI",
        "colab_type": "text"
      },
      "cell_type": "markdown",
      "source": [
        "Since this function is highly irregular, we take special care when computing the nodes. To ensure that the function is smooth between each consecutive pair of nodes, we use the zeros of the function Legendre function. We then add the endpoints of the integral, and use Chebyshev nodes between consecutive node."
      ]
    },
    {
      "metadata": {
        "id": "GrtEwbWrqVHs",
        "colab_type": "code",
        "colab": {
          "autoexec": {
            "startup": false,
            "wait_interval": 0
          }
        }
      },
      "cell_type": "code",
      "source": [
        "def computeNodes(n):\n",
        "  aks = [k + 0.5 for k in range(n+1)]\n",
        "  zeros = legroots(aks)\n",
        "  initial_nodes = [-1] + zeros.tolist() + [1]\n",
        "  nodes = []\n",
        "  for i in range(len(initial_nodes)-1):\n",
        "    nodes += chebyshev_nodes(initial_nodes[i], initial_nodes[i+1], max(3, n)).tolist()\n",
        "  return nodes\n",
        "  "
      ],
      "execution_count": 0,
      "outputs": []
    },
    {
      "metadata": {
        "id": "zP8dG6UzCZy8",
        "colab_type": "text"
      },
      "cell_type": "markdown",
      "source": [
        "We use composite trapezoidal quadrature to approximate the integral, which is defnied above. We use Chebyshev nodes."
      ]
    },
    {
      "metadata": {
        "id": "_MS-mWuNDOCI",
        "colab_type": "code",
        "colab": {
          "autoexec": {
            "startup": false,
            "wait_interval": 0
          }
        }
      },
      "cell_type": "code",
      "source": [
        "def NormSn(n):\n",
        "  xs = computeNodes(n)\n",
        "  #print(xs)\n",
        "  f = lambda x: abs(f_sn(x, n))\n",
        "  return trapezoidal(f, xs)"
      ],
      "execution_count": 0,
      "outputs": []
    },
    {
      "metadata": {
        "id": "86keJZBNTbGK",
        "colab_type": "text"
      },
      "cell_type": "markdown",
      "source": [
        "We can now plot $\\|S_n\\|$ against $n$."
      ]
    },
    {
      "metadata": {
        "id": "Mg9OTv0wFZ8W",
        "colab_type": "code",
        "colab": {
          "autoexec": {
            "startup": false,
            "wait_interval": 0
          },
          "base_uri": "https://localhost:8080/",
          "height": 401
        },
        "outputId": "4a1ccf70-6f1c-4c3e-e26e-d150bd030969",
        "executionInfo": {
          "status": "ok",
          "timestamp": 1523655929322,
          "user_tz": 240,
          "elapsed": 2614,
          "user": {
            "displayName": "Mathew Wright",
            "photoUrl": "https://lh3.googleusercontent.com/a/default-user=s128",
            "userId": "101002757614869681843"
          }
        }
      },
      "cell_type": "code",
      "source": [
        "ns = list(range(5,40))\n",
        "normSns = [NormSn(n) for n in ns]\n",
        "\n",
        "\n",
        "def f(n, c):\n",
        "  return c*np.sqrt(n)\n",
        "\n",
        "\n",
        "c, _ = curve_fit(f, ns, normSns)\n",
        "c = c[0]\n",
        "\n",
        "plt.scatter(ns, normSns, label=\"Norm Sn\")\n",
        "plt.plot(ns, [f(n, c) for n in ns], label='{:.3f}*sqrt(n)'.format(c))\n",
        "plt.legend()\n",
        "plt.show()\n",
        "\n",
        "\n",
        "print(\"\\n\\nSn can be approximated by {:.3f}*sqrt(n)\".format(c))"
      ],
      "execution_count": 17,
      "outputs": [
        {
          "output_type": "display_data",
          "data": {
            "image/png": "[encoded data removed]",
            "text/plain": [
              "<matplotlib.figure.Figure at 0x7f8c543450f0>"
            ]
          },
          "metadata": {
            "tags": []
          }
        },
        {
          "output_type": "stream",
          "text": [
            "\n",
            "\n",
            "Sn can be approximated by 1.504*sqrt(n)\n"
          ],
          "name": "stdout"
        }
      ]
    },
    {
      "metadata": {
        "id": "R8Oy5dj8Ieeq",
        "colab_type": "text"
      },
      "cell_type": "markdown",
      "source": [
        "As we can see above, $\\|S_n\\| \\approx C \\cdot \\sqrt{n}$ where $C = 1.504$."
      ]
    },
    {
      "metadata": {
        "id": "1_jirWM0ItW-",
        "colab_type": "text"
      },
      "cell_type": "markdown",
      "source": [
        "# Question 5\n",
        "\n",
        "In order to compute $\\|Q_n\\|$, we first need to be able to compute $\\omega_k = \\int_0^1\\phi_{n,k}(x)dx$. We implement this below."
      ]
    },
    {
      "metadata": {
        "id": "r2XqPI2vJKlO",
        "colab_type": "code",
        "colab": {
          "autoexec": {
            "startup": false,
            "wait_interval": 0
          }
        }
      },
      "cell_type": "code",
      "source": [
        "def wk(n, k):\n",
        "  nodes = np.linspace(0,1,n+1)\n",
        "  f = lambda x: LagrangeCoeff(nodes, k, x)\n",
        "  \n",
        "  integral_nodes = chebyshev_nodes(0,1, max(5, 2*n))\n",
        "  return trapezoidal(f, integral_nodes)"
      ],
      "execution_count": 0,
      "outputs": []
    },
    {
      "metadata": {
        "id": "dZlkMSw9Qzwu",
        "colab_type": "text"
      },
      "cell_type": "markdown",
      "source": [
        "Using the quadrature implementations from above, we can now compute $\\|Q_n\\|$."
      ]
    },
    {
      "metadata": {
        "id": "QHmVWNgZQxmI",
        "colab_type": "code",
        "colab": {
          "autoexec": {
            "startup": false,
            "wait_interval": 0
          }
        }
      },
      "cell_type": "code",
      "source": [
        "def normQn(n):\n",
        "  return sum(abs(wk(n, k)) for k in range(n+1))"
      ],
      "execution_count": 0,
      "outputs": []
    },
    {
      "metadata": {
        "id": "YIbElF9aLV-A",
        "colab_type": "code",
        "colab": {
          "autoexec": {
            "startup": false,
            "wait_interval": 0
          },
          "base_uri": "https://localhost:8080/",
          "height": 376
        },
        "outputId": "ba239921-5cb7-4ef6-f2b6-6ded9338f3fb",
        "executionInfo": {
          "status": "ok",
          "timestamp": 1523655934092,
          "user_tz": 240,
          "elapsed": 3922,
          "user": {
            "displayName": "Mathew Wright",
            "photoUrl": "https://lh3.googleusercontent.com/a/default-user=s128",
            "userId": "101002757614869681843"
          }
        }
      },
      "cell_type": "code",
      "source": [
        "ns = list(range(20,50))\n",
        "normQns = [normQn(n) for n in ns]\n",
        "\n",
        "\n",
        "plt.plot(ns, normQns, label=\"Qn\")\n",
        "plt.xlabel(\"n\")\n",
        "plt.ylabel(\"Qn\")\n",
        "plt.title(\"Norm of Newton-Cotes vs n\")\n",
        "plt.show()"
      ],
      "execution_count": 20,
      "outputs": [
        {
          "output_type": "display_data",
          "data": {
            "image/png": "[encoded data removed]",
            "text/plain": [
              "<matplotlib.figure.Figure at 0x7f8c5438c400>"
            ]
          },
          "metadata": {
            "tags": []
          }
        }
      ]
    },
    {
      "metadata": {
        "id": "E_D6cEplRGTs",
        "colab_type": "text"
      },
      "cell_type": "markdown",
      "source": [
        "We can see that $\\|Q_n\\|$ grows with $n$ (although not monotonically). We therefore have that $Q_n(f) \\not\\to I(f)$ as $n \\to \\infty$.\n",
        "\n",
        "It looks like $n \\mapsto \\|Q_n\\|$ has a different underlying function for even and odd $n$. Both appear to become exponential for $n$ large enough."
      ]
    }
  ]
}